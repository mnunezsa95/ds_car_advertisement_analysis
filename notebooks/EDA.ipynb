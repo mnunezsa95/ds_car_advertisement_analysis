{
 "cells": [
  {
   "cell_type": "code",
   "execution_count": 60,
   "metadata": {},
   "outputs": [],
   "source": [
    "import pandas as pd\n",
    "import numpy as np\n",
    "from matplotlib import pyplot as plt\n",
    "from scipy import stats as st\n",
    "import math"
   ]
  },
  {
   "cell_type": "code",
   "execution_count": 61,
   "metadata": {},
   "outputs": [
    {
     "name": "stdout",
     "output_type": "stream",
     "text": [
      "The file at path: [../vehicles_us.csv] was imported.\n",
      "The import was saved to the variable: [vehicles_df]\n"
     ]
    }
   ],
   "source": [
    "# Attempt to import data, handle exception, give feedback if successful\n",
    "file_path = \"../vehicles_us.csv\"\n",
    "\n",
    "try:\n",
    "    vehicles_df = pd.read_csv(file_path)\n",
    "except FileNotFoundError as error_msg:\n",
    "    print(f\"Error reading file: {error_msg}. Try again!\")\n",
    "else:\n",
    "    print(f\"The file at path: [{file_path}] was imported.\")\n",
    "    print(\"The import was saved to the variable: [vehicles_df]\")"
   ]
  },
  {
   "cell_type": "code",
   "execution_count": 62,
   "metadata": {},
   "outputs": [
    {
     "name": "stdout",
     "output_type": "stream",
     "text": [
      "<class 'pandas.core.frame.DataFrame'>\n",
      "RangeIndex: 51525 entries, 0 to 51524\n",
      "Data columns (total 13 columns):\n",
      " #   Column        Non-Null Count  Dtype  \n",
      "---  ------        --------------  -----  \n",
      " 0   price         51525 non-null  int64  \n",
      " 1   model_year    47906 non-null  float64\n",
      " 2   model         51525 non-null  object \n",
      " 3   condition     51525 non-null  object \n",
      " 4   cylinders     46265 non-null  float64\n",
      " 5   fuel          51525 non-null  object \n",
      " 6   odometer      43633 non-null  float64\n",
      " 7   transmission  51525 non-null  object \n",
      " 8   type          51525 non-null  object \n",
      " 9   paint_color   42258 non-null  object \n",
      " 10  is_4wd        25572 non-null  float64\n",
      " 11  date_posted   51525 non-null  object \n",
      " 12  days_listed   51525 non-null  int64  \n",
      "dtypes: float64(4), int64(2), object(7)\n",
      "memory usage: 5.1+ MB\n"
     ]
    }
   ],
   "source": [
    "# Print general information\n",
    "vehicles_df.info()"
   ]
  },
  {
   "cell_type": "markdown",
   "metadata": {},
   "source": [
    "**Observations**\n",
    "\n",
    "The dataset comprises 51,525 entries. Within it, several columns contain missing values, including:\n",
    "\n",
    "- model_year\n",
    "- cylinders\n",
    "- odometer\n",
    "- paint_color\n",
    "- is_4wd\n",
    "\n",
    "For the analysis at hand, a standardized approach will be adopted to handle these missing values:\n",
    "\n",
    "- The missing values in the columns `model_year`, `cylinders`, and `odometer` will be substituted with their respective statistical means.\n",
    "- The missing values in the `paint_color` column will be filled with the categorical value \"Unknown.\"\n",
    "- The missing values in the `is_4wd` column will be filled with a zero. From an analytical standpoint, I would prefer to miss-calculate cars that have four-wheel drive as nothing having it than the other way around.\n"
   ]
  },
  {
   "cell_type": "code",
   "execution_count": 63,
   "metadata": {},
   "outputs": [
    {
     "name": "stdout",
     "output_type": "stream",
     "text": [
      "Missing values for 'model_year': 0\n",
      "Missing values for 'cylinders': 0\n",
      "Missing values for 'odometer': 0\n",
      "Missing values for 'paint_color': 0\n",
      "Missing values for 'is_4wd': 0\n"
     ]
    }
   ],
   "source": [
    "# Updating numerical \n",
    "try:\n",
    "    vehicles_df[\"model_year\"]=vehicles_df[\"model_year\"].fillna(round(vehicles_df[\"model_year\"].mean()))\n",
    "    vehicles_df[\"cylinders\"] = vehicles_df[\"cylinders\"].fillna(round(vehicles_df[\"cylinders\"].mean()))\n",
    "    vehicles_df[\"odometer\"] = vehicles_df[\"odometer\"].fillna(round(vehicles_df[\"odometer\"].mean()))\n",
    "    vehicles_df['paint_color'] = vehicles_df['paint_color'].fillna(\"unknown\")\n",
    "    vehicles_df['is_4wd'] = vehicles_df['is_4wd'].fillna(0)\n",
    "except:\n",
    "    print(\"There was an error! Try again.\")\n",
    "else:\n",
    "    print(f\"Missing values for 'model_year': {vehicles_df['model_year'].isna().sum()}\")\n",
    "    print(f\"Missing values for 'cylinders': {vehicles_df['cylinders'].isna().sum()}\")\n",
    "    print(f\"Missing values for 'odometer': {vehicles_df['odometer'].isna().sum()}\")\n",
    "    print(f\"Missing values for 'paint_color': {vehicles_df['paint_color'].isna().sum()}\")\n",
    "    print(f\"Missing values for 'is_4wd': {vehicles_df['is_4wd'].isna().sum()}\")"
   ]
  },
  {
   "cell_type": "code",
   "execution_count": 68,
   "metadata": {},
   "outputs": [],
   "source": [
    "# Change the data type of the entire column\n",
    "columns_to_convert = ['model_year', 'cylinders', 'odometer', 'is_4wd']\n",
    "vehicles_df[columns_to_convert] = vehicles_df[columns_to_convert].astype(int)"
   ]
  },
  {
   "cell_type": "code",
   "execution_count": 78,
   "metadata": {},
   "outputs": [],
   "source": [
    "# Feature engineering dates based on the date_posted column\n",
    "vehicles_df['date_posted'] = pd.to_datetime(vehicles_df['date_posted'])\n",
    "vehicles_df['year_posted'] = vehicles_df['date_posted'].dt.year\n",
    "vehicles_df['month_posted'] = vehicles_df['date_posted'].dt.month\n",
    "vehicles_df['day_posted'] = vehicles_df['date_posted'].dt.day"
   ]
  },
  {
   "cell_type": "code",
   "execution_count": null,
   "metadata": {},
   "outputs": [],
   "source": []
  }
 ],
 "metadata": {
  "kernelspec": {
   "display_name": "base",
   "language": "python",
   "name": "python3"
  },
  "language_info": {
   "codemirror_mode": {
    "name": "ipython",
    "version": 3
   },
   "file_extension": ".py",
   "mimetype": "text/x-python",
   "name": "python",
   "nbconvert_exporter": "python",
   "pygments_lexer": "ipython3",
   "version": "3.11.7"
  }
 },
 "nbformat": 4,
 "nbformat_minor": 2
}
